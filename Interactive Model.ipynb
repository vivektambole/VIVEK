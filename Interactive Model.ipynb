{
 "cells": [
  {
   "cell_type": "code",
   "execution_count": 1,
   "id": "47fe64b7",
   "metadata": {},
   "outputs": [],
   "source": [
    "import numpy as np\n",
    "import pandas as pd"
   ]
  },
  {
   "cell_type": "code",
   "execution_count": 2,
   "id": "b2223c5a",
   "metadata": {},
   "outputs": [],
   "source": [
    "t1 = 'Chennai Super Kings'\n",
    "t2 = 'Gujarat Titans'"
   ]
  },
  {
   "cell_type": "code",
   "execution_count": 3,
   "id": "52cc2084",
   "metadata": {},
   "outputs": [],
   "source": [
    "# probabilities of t1 and t2\n",
    "\n",
    "pb_t1 = [0.33114127317912445, 0.4020263811890652, 0.06522653412349455, 0.0037468935194035556, 0.10816287516727204, 0.04813611164213343, 0.041559931179506786]\n",
    "    \n",
    "pb_t2 = [0.3041564792176039, 0.4317848410757946, 0.06063569682151589, 0.0009779951100244498, 0.12371638141809291, 0.03863080684596577, 0.040097799511002445]"
   ]
  },
  {
   "cell_type": "code",
   "execution_count": 4,
   "id": "6d413c49",
   "metadata": {},
   "outputs": [],
   "source": [
    "pb1_cum_ls = np.cumsum(pb_t1)\n",
    "pb2_cum_ls = np.cumsum(pb_t2)"
   ]
  },
  {
   "cell_type": "code",
   "execution_count": 5,
   "id": "2a4222e3",
   "metadata": {},
   "outputs": [
    {
     "data": {
      "text/plain": [
       "(array([0.30415648, 0.73594132, 0.79657702, 0.79755501, 0.92127139,\n",
       "        0.9599022 , 1.        ]),\n",
       " array([0.33114127, 0.73316765, 0.79839419, 0.80214108, 0.91030396,\n",
       "        0.95844007, 1.        ]))"
      ]
     },
     "execution_count": 5,
     "metadata": {},
     "output_type": "execute_result"
    }
   ],
   "source": [
    "pb2_cum_ls, pb1_cum_ls"
   ]
  },
  {
   "cell_type": "code",
   "execution_count": 6,
   "id": "0a24caf6",
   "metadata": {},
   "outputs": [],
   "source": [
    "def get_pb_values(teamName):\n",
    "    \n",
    "    if teamName == t1:\n",
    "        p_0 = pb1_cum_ls[0]\n",
    "        p_1 = pb1_cum_ls[1]\n",
    "        p_2 = pb1_cum_ls[2]\n",
    "        p_3 = pb1_cum_ls[3]\n",
    "        p_4 = pb1_cum_ls[4]\n",
    "        p_6 = pb1_cum_ls[5]\n",
    "        p_w = pb1_cum_ls[6]\n",
    "        \n",
    "    elif teamName == t2:\n",
    "        p_0 = pb2_cum_ls[0]\n",
    "        p_1 = pb2_cum_ls[1]\n",
    "        p_2 = pb2_cum_ls[2]\n",
    "        p_3 = pb2_cum_ls[3]\n",
    "        p_4 = pb2_cum_ls[4]\n",
    "        p_6 = pb2_cum_ls[5]\n",
    "        p_w = pb2_cum_ls[6]\n",
    "        \n",
    "    return (p_0, p_1, p_2, p_3, p_4, p_6, p_w)"
   ]
  },
  {
   "cell_type": "code",
   "execution_count": 7,
   "id": "54b83290",
   "metadata": {},
   "outputs": [],
   "source": [
    "def innings2_runs_pred(curr_score, curr_wks, curr_overs, target):\n",
    "    \n",
    "    i1p_0, i1p_1, i1p_2, i1p_3, i1p_4, i1p_6, i1p_w = get_pb_values(t1)\n",
    "    i2p_0, i2p_1, i2p_2, i2p_3, i2p_4, i2p_6, i2p_w = get_pb_values(t2)\n",
    "    \n",
    "    pred_runs = curr_score\n",
    "    pred_wks = curr_wks\n",
    "    \n",
    "    leftover_balls = 120 - curr_overs*6 \n",
    "    \n",
    "\n",
    "    for i in range(leftover_balls):\n",
    "        r_values = np.random.random()\n",
    "\n",
    "        if r_values <= i2p_0:\n",
    "            pred_runs += 0\n",
    "        elif r_values <= i2p_1:\n",
    "            pred_runs += 1\n",
    "        elif r_values <= i2p_2:\n",
    "            pred_runs += 2\n",
    "        elif r_values <= i2p_3:\n",
    "            pred_runs += 3\n",
    "        elif r_values <= i2p_4:\n",
    "            pred_runs += 4\n",
    "        elif r_values <= i2p_6:\n",
    "            pred_runs += 6\n",
    "        else:\n",
    "            pred_runs += 0\n",
    "            pred_wks += 1\n",
    "\n",
    "            if pred_wks == 10:\n",
    "                break\n",
    "        if pred_runs > target:\n",
    "            break\n",
    "\n",
    "    return pred_runs"
   ]
  },
  {
   "cell_type": "code",
   "execution_count": 8,
   "id": "0c59cd4a",
   "metadata": {},
   "outputs": [
    {
     "data": {
      "text/plain": [
       "134"
      ]
     },
     "execution_count": 8,
     "metadata": {},
     "output_type": "execute_result"
    }
   ],
   "source": [
    "innings2_runs_pred(125, 5, 19, 133)"
   ]
  },
  {
   "cell_type": "code",
   "execution_count": 9,
   "id": "03af839d",
   "metadata": {},
   "outputs": [],
   "source": [
    "def get_win(innings2_runs_pred, target):\n",
    "    if innings2_runs_pred > target:\n",
    "        return 'Win'\n",
    "    elif innings2_runs_pred == target:\n",
    "        return 'Tie'\n",
    "    else:\n",
    "        return 'Lose'"
   ]
  },
  {
   "cell_type": "code",
   "execution_count": 39,
   "id": "15820509",
   "metadata": {},
   "outputs": [],
   "source": [
    "target = 133\n",
    "curr_score = 81\n",
    "curr_wks = 6\n",
    "curr_overs = 13\n",
    "\n",
    "pred_runs_ls = []\n",
    "result_ls = []\n",
    "\n",
    "win_count = 0\n",
    "tie_count = 0\n",
    "lose_count = 0\n",
    "\n",
    "for i in range(100):\n",
    "    prediction = innings2_runs_pred(curr_score, curr_wks, curr_overs, target)\n",
    "    pred_runs_ls.append(prediction)\n",
    "    \n",
    "    result = get_win(prediction, target)\n",
    "    result_ls.append(result)\n",
    "    \n",
    "    if result == 'Win':\n",
    "        win_count += 1\n",
    "    elif result == 'Tie':\n",
    "        tie_count += 1\n",
    "    else:\n",
    "        lose_count += 1"
   ]
  },
  {
   "cell_type": "code",
   "execution_count": 40,
   "id": "7c40a68e",
   "metadata": {},
   "outputs": [
    {
     "data": {
      "text/plain": [
       "(52, 1, 47)"
      ]
     },
     "execution_count": 40,
     "metadata": {},
     "output_type": "execute_result"
    }
   ],
   "source": [
    "win_count, tie_count, lose_count"
   ]
  },
  {
   "cell_type": "code",
   "execution_count": 12,
   "id": "3c3b473f",
   "metadata": {},
   "outputs": [],
   "source": [
    "def find_runs(target, curr_score, curr_wks, at_overs):\n",
    "    \n",
    "    run_ls = []\n",
    "    result_ls = []\n",
    "    req_runs = []\n",
    "    win_ls = []\n",
    "    \n",
    "    for i in range(curr_score, target + 1):\n",
    "        win_count = 0\n",
    "        tie_count = 0\n",
    "        lose_count = 0\n",
    "        \n",
    "        for j in range(100):\n",
    "            \n",
    "            prediction = innings2_runs_pred(i, curr_wks, at_overs, target)\n",
    "            run_ls.append(prediction)\n",
    "            \n",
    "            result = get_win(prediction, target)\n",
    "            result_ls.append(result)\n",
    "            \n",
    "            if result == 'Win':\n",
    "                win_count += 1\n",
    "            elif result == 'Tie':\n",
    "                tie_count += 1\n",
    "            else:\n",
    "                lose_count += 1\n",
    "                \n",
    "            win_ls.append(win_count)\n",
    "            req_runs.append(i)\n",
    "            \n",
    "            \n",
    "    required_runs = curr_score\n",
    "    for i in range(len(req_runs)):\n",
    "        if win_ls[i] >= 50:\n",
    "            required_runs = req_runs[i]\n",
    "            break\n",
    "            \n",
    "            \n",
    "    return required_runs\n",
    "                "
   ]
  },
  {
   "cell_type": "code",
   "execution_count": 49,
   "id": "2b9f6c42",
   "metadata": {},
   "outputs": [
    {
     "data": {
      "text/plain": [
       "65"
      ]
     },
     "execution_count": 49,
     "metadata": {},
     "output_type": "execute_result"
    }
   ],
   "source": [
    "find_runs(133, 40, 1, 11)"
   ]
  },
  {
   "cell_type": "code",
   "execution_count": 124,
   "id": "2b900537",
   "metadata": {},
   "outputs": [],
   "source": [
    "def find_wks(target, curr_score, curr_wks, at_overs):\n",
    "    \n",
    "    req_runs = find_runs(target, curr_score, curr_wks, at_overs)\n",
    "    runs_ls = []\n",
    "    result_ls = []\n",
    "    req_wks = []\n",
    "    win_ls = []\n",
    "    \n",
    "    for i in range(curr_wks, 10):\n",
    "        win_count = 0\n",
    "        tie_count = 0\n",
    "        lose_count = 0\n",
    "        \n",
    "        for j in range(100):\n",
    "            \n",
    "            prediction = innings2_runs_pred(curr_score, i, at_overs, target)\n",
    "            runs_ls.append(prediction)\n",
    "            \n",
    "            result = get_win(prediction, target)\n",
    "            result_ls.append(result)\n",
    "            \n",
    "            if result == 'Win':\n",
    "                win_count += 1\n",
    "            elif result == 'Tie':\n",
    "                tie_count += 1\n",
    "            else:\n",
    "                lose_count += 1\n",
    "                \n",
    "        win_ls.append(win_count)\n",
    "        req_wks.append(i)\n",
    "#         print('wickets: ', i, ' win%: ', win_count)\n",
    "\n",
    "                \n",
    "        required_wks = curr_wks\n",
    "\n",
    "        for i in range(len(req_wks)):\n",
    "            if (win_ls[i] < 45)  :\n",
    "                required_wks = req_wks[i]\n",
    "                break\n",
    "\n",
    "    return required_wks\n"
   ]
  },
  {
   "cell_type": "code",
   "execution_count": 125,
   "id": "e457bffb",
   "metadata": {},
   "outputs": [
    {
     "data": {
      "text/plain": [
       "8"
      ]
     },
     "execution_count": 125,
     "metadata": {},
     "output_type": "execute_result"
    }
   ],
   "source": [
    "find_wks(133, 75, 2, 12)"
   ]
  },
  {
   "cell_type": "code",
   "execution_count": 126,
   "id": "30db2be0",
   "metadata": {},
   "outputs": [],
   "source": [
    "%matplotlib inline\n",
    "from ipywidgets import interactive\n",
    "import ipywidgets as widgets\n",
    "import matplotlib.pyplot as plt\n",
    "import numpy as np\n",
    "\n",
    "def find_runs_wks(target, curr_wks, at_overs):\n",
    "    plt.figure(figsize = (16, 6))\n",
    "    x = np.array(list(range(21)))\n",
    "    req_runs = find_runs(target, 81, curr_wks, at_overs)\n",
    "    req_wks = find_wks(target, 81, curr_wks, at_overs)\n",
    "    \n",
    "    if at_overs == 10:\n",
    "        req_value = 81\n",
    "        req_wk_value = 1\n",
    "\n",
    "    \n",
    "    # print(req_value)\n",
    "    y = np.array([req_runs for i in range(21)])\n",
    "\n",
    "    # plt.plot(x, current_overs * x + target_score)\n",
    "    # plt.plot(x, y)\n",
    "    plt.scatter(at_overs, req_runs, s = 1200, color = 'red')\n",
    "    plt.axhline(target, ls = '--', color = 'blue')\n",
    "    plt.text( 1, target + 10, 'Target Score :' + str(target) , color = 'darkblue', fontsize = 13)\n",
    "    plt.text( at_overs, req_runs, str(req_runs) + '/' + str(req_wks), color = 'white', fontsize = 12,  horizontalalignment='center', verticalalignment='center')\n",
    "    plt.text(at_overs, req_runs - 30, 'GT has to be at ' + str(req_runs) + '/' +  str(req_wks) + ' after ' + str(at_overs) + ' overs', horizontalalignment='center')\n",
    "    plt.ylim(50, target + 50)\n",
    "    plt.xticks(x)\n",
    "    plt.title('Where should GT be?', fontsize = 20)\n",
    "    plt.xlabel('Overs')\n",
    "    plt.ylabel('Score')\n",
    "    plt.show()\n"
   ]
  },
  {
   "cell_type": "code",
   "execution_count": 127,
   "id": "d474158b",
   "metadata": {},
   "outputs": [
    {
     "data": {
      "image/png": "[encoded data removed]",
      "text/plain": [
       "<Figure size 1600x600 with 1 Axes>"
      ]
     },
     "metadata": {},
     "output_type": "display_data"
    }
   ],
   "source": [
    "find_runs_wks(133, 2, 17)"
   ]
  },
  {
   "cell_type": "code",
   "execution_count": 129,
   "id": "8e006f3e",
   "metadata": {},
   "outputs": [
    {
     "name": "stdout",
     "output_type": "stream",
     "text": [
      "current_score = GT: 81/1 (10 overs)\n",
      "\n"
     ]
    },
    {
     "data": {
      "application/vnd.jupyter.widget-view+json": {
       "model_id": "81d914743db7464380d1379c3ccd3695",
       "version_major": 2,
       "version_minor": 0
      },
      "text/plain": [
       "interactive(children=(IntSlider(value=133, description='target', max=250), IntSlider(value=1, description='cur…"
      ]
     },
     "metadata": {},
     "output_type": "display_data"
    }
   ],
   "source": [
    "print('current_score = GT: 81/1 (10 overs)')\n",
    "print('')\n",
    "\n",
    "interactive_plot = interactive(find_runs_wks, curr_wks = widgets.IntSlider(min=1, max=10, step=1, value=1),  at_overs=widgets.IntSlider(min=10, max=20, step=1, value=10), target = widgets.IntSlider(min=0, max=250, step=1, value=133))\n",
    "output = interactive_plot.children[-1]\n",
    "output.layout.height = '450px'\n",
    "interactive_plot"
   ]
  }
 ],
 "metadata": {
  "kernelspec": {
   "display_name": "Python 3 (ipykernel)",
   "language": "python",
   "name": "python3"
  },
  "language_info": {
   "codemirror_mode": {
    "name": "ipython",
    "version": 3
   },
   "file_extension": ".py",
   "mimetype": "text/x-python",
   "name": "python",
   "nbconvert_exporter": "python",
   "pygments_lexer": "ipython3",
   "version": "3.10.9"
  }
 },
 "nbformat": 4,
 "nbformat_minor": 5
}
